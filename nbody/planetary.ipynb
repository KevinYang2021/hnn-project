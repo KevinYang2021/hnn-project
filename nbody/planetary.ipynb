{
 "cells": [
  {
   "cell_type": "markdown",
   "source": [
    "# Planetary System"
   ],
   "metadata": {
    "collapsed": false
   }
  },
  {
   "cell_type": "markdown",
   "source": [
    "Using the solar system we live in as an example, we can create a planetary system with the Sun at the center and the planets orbiting around it. Because of this fact, we can assume the Sun's center to be the barycenter of the system.\n",
    " This means that the hamiltonian of the system can be split into the Keplarian and interactive part. $$H = H_{Keplarian} + H_{int}$$ $$H_{Keplarian} = \\sum_{i=1}^{N} \\frac{p_i^2}{2m_i} - \\sum_{j=1}^{N} \\frac{Gm_0m_j}{|r_j|}$$ $$H_{int} = \\sum_{i=1}^{N} \\sum_{j=1}^{N} \\frac{Gm_im_j}{|r_i - r_j|}$$\n",
    " The Wisdom-Holman symplectic integrator is used to integrate the system. We will be using the rebound library to in order to use the whfast integrator\n",
    "\n",
    "We will also use a hamiltonian neural network. A nomral neural network will use input values to predict the next values however the hamiltonian neural network will first get a hamiltonian and do many gradient steps on the hamiltonian to predict the next value. This makes it conserve the hamiltonian and thus conserve energy."
   ],
   "metadata": {
    "collapsed": false
   }
  },
  {
   "cell_type": "markdown",
   "source": [],
   "metadata": {
    "collapsed": false
   }
  }
 ],
 "metadata": {
  "kernelspec": {
   "display_name": "Python 3",
   "language": "python",
   "name": "python3"
  },
  "language_info": {
   "codemirror_mode": {
    "name": "ipython",
    "version": 2
   },
   "file_extension": ".py",
   "mimetype": "text/x-python",
   "name": "python",
   "nbconvert_exporter": "python",
   "pygments_lexer": "ipython2",
   "version": "2.7.6"
  }
 },
 "nbformat": 4,
 "nbformat_minor": 0
}
